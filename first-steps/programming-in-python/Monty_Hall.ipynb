{
  "nbformat": 4,
  "nbformat_minor": 0,
  "metadata": {
    "colab": {
      "provenance": [],
      "collapsed_sections": []
    },
    "kernelspec": {
      "name": "python3",
      "display_name": "Python 3"
    },
    "language_info": {
      "name": "python"
    }
  },
  "cells": [
    {
      "cell_type": "code",
      "execution_count": 51,
      "metadata": {
        "colab": {
          "base_uri": "https://localhost:8080/"
        },
        "id": "2v1JlIYElBVK",
        "outputId": "1bdd51e7-209a-46ec-e830-65d10f5c0492"
      },
      "outputs": [
        {
          "output_type": "stream",
          "name": "stdout",
          "text": [
            "Probablity of winning when sticking to door choice   : 0.333959\n",
            "Probablity of winning when switching the door choice : 0.665925\n"
          ]
        }
      ],
      "source": [
        "from enum import Enum\n",
        "import random\n",
        "\n",
        "class Strategy(Enum):\n",
        "    STICK = 1\n",
        "    SWITCH = 2\n",
        "\n",
        "\n",
        "class MontyHall:\n",
        "      \n",
        "  def __init__(self, strategy, iterations=1000000):\n",
        "    self.strategy = strategy\n",
        "    count_win = 0\n",
        "    count_loss = 0\n",
        "    for i in range(iterations):\n",
        "      if self.play_game() == True:\n",
        "        count_win += 1\n",
        "      else: \n",
        "        count_loss += 1\n",
        "    prob = count_win / (count_win + count_loss)\n",
        "    if self.strategy == Strategy.STICK:\n",
        "      print(\"Probablity of winning when sticking to door choice   :\", prob)\n",
        "    elif self.strategy == Strategy.SWITCH:\n",
        "      print(\"Probablity of winning when switching the door choice :\", prob)\n",
        "\n",
        "  def play_game(self):\n",
        "      # Computer sets price behind a certain door\n",
        "      winning_door = random.choice([1, 2, 3])\n",
        "\n",
        "      # A door is selected for the player\n",
        "      chosen_door = random.choice([1, 2, 3])\n",
        "\n",
        "      # The computer opens an empty door\n",
        "      if chosen_door == 1 and winning_door == 1:\n",
        "        shown_door = random.choice([2, 3])\n",
        "      elif chosen_door == 1 and winning_door == 2:\n",
        "        shown_door = 3\n",
        "      elif chosen_door == 1 and winning_door == 3:\n",
        "        shown_door = 2\n",
        "      elif chosen_door == 2 and winning_door == 1:\n",
        "        shown_door = 3\n",
        "      elif chosen_door == 2 and winning_door == 2:\n",
        "        shown_door = random.choice([1, 3])\n",
        "      elif chosen_door == 2 and winning_door == 3:\n",
        "        shown_door = 1\n",
        "      elif chosen_door == 3 and winning_door == 1:\n",
        "        shown_door = 2\n",
        "      elif chosen_door == 3 and winning_door == 2:\n",
        "        shown_door = 1\n",
        "      elif chosen_door == 3 and winning_door == 3:\n",
        "        shown_door = random.choice([1, 2])\n",
        "\n",
        "      # Depending on the strategy the selected door ist changed\n",
        "      if self.strategy == Strategy.SWITCH:\n",
        "        if chosen_door == 1 and shown_door == 2:\n",
        "          chosen_door = 3\n",
        "        elif chosen_door == 1 and shown_door == 3:\n",
        "          chosen_door = 2\n",
        "        elif chosen_door == 2 and shown_door == 1:\n",
        "          chosen_door = 3\n",
        "        elif chosen_door == 2 and shown_door == 3:\n",
        "          chosen_door = 1\n",
        "        elif chosen_door == 3 and shown_door == 1:\n",
        "          chosen_door = 2\n",
        "        elif chosen_door == 3 and shown_door == 2:\n",
        "          chosen_door = 1\n",
        "\n",
        "      return chosen_door == winning_door\n",
        "\n",
        "\n",
        "mh1 = MontyHall(Strategy.STICK)\n",
        "mh2 = MontyHall(Strategy.SWITCH)"
      ]
    }
  ]
}